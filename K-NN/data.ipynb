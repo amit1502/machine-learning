{
 "cells": [
  {
   "cell_type": "markdown",
   "id": "52b3a7ac-96d7-476f-8472-2a4cd9f5284d",
   "metadata": {},
   "source": [
    "# Generate data for K-NN"
   ]
  },
  {
   "cell_type": "code",
   "execution_count": 2,
   "id": "97bb226f-98e3-4ee8-8504-140c8eee0322",
   "metadata": {},
   "outputs": [
    {
     "name": "stdout",
     "output_type": "stream",
     "text": [
      "Requirement already satisfied: pandas in /root/ml/machine-learning/env/lib/python3.10/site-packages (2.3.0)\n",
      "Requirement already satisfied: numpy>=1.22.4 in /root/ml/machine-learning/env/lib/python3.10/site-packages (from pandas) (2.2.6)\n",
      "Requirement already satisfied: pytz>=2020.1 in /root/ml/machine-learning/env/lib/python3.10/site-packages (from pandas) (2025.2)\n",
      "Requirement already satisfied: tzdata>=2022.7 in /root/ml/machine-learning/env/lib/python3.10/site-packages (from pandas) (2025.2)\n",
      "Requirement already satisfied: python-dateutil>=2.8.2 in /root/ml/machine-learning/env/lib/python3.10/site-packages (from pandas) (2.9.0.post0)\n",
      "Requirement already satisfied: six>=1.5 in /root/ml/machine-learning/env/lib/python3.10/site-packages (from python-dateutil>=2.8.2->pandas) (1.17.0)\n",
      "\n",
      "\u001b[1m[\u001b[0m\u001b[34;49mnotice\u001b[0m\u001b[1;39;49m]\u001b[0m\u001b[39;49m A new release of pip is available: \u001b[0m\u001b[31;49m23.0.1\u001b[0m\u001b[39;49m -> \u001b[0m\u001b[32;49m25.1.1\u001b[0m\n",
      "\u001b[1m[\u001b[0m\u001b[34;49mnotice\u001b[0m\u001b[1;39;49m]\u001b[0m\u001b[39;49m To update, run: \u001b[0m\u001b[32;49mpip install --upgrade pip\u001b[0m\n"
     ]
    }
   ],
   "source": [
    "!pip install pandas"
   ]
  },
  {
   "cell_type": "code",
   "execution_count": 4,
   "id": "860d0923-3774-403a-8a25-018b6c7ba599",
   "metadata": {},
   "outputs": [],
   "source": [
    "import numpy as np\n",
    "import pandas as pd\n",
    "import matplotlib.pyplot as plt"
   ]
  },
  {
   "cell_type": "code",
   "execution_count": 12,
   "id": "db35c66c-8183-4328-a579-59dfe94e24c4",
   "metadata": {},
   "outputs": [
    {
     "data": {
      "text/plain": [
       "[]"
      ]
     },
     "execution_count": 12,
     "metadata": {},
     "output_type": "execute_result"
    },
    {
     "data": {
      "image/png": "[encoded data removed]",
      "text/plain": [
       "<Figure size 640x480 with 1 Axes>"
      ]
     },
     "metadata": {},
     "output_type": "display_data"
    }
   ],
   "source": [
    "# class 0 points\n",
    "class_0_x1 = np.random.normal(loc=2, scale=0.5, size=50)\n",
    "class_0_x2 = np.random.normal(loc=3, scale=0.5, size=50)\n",
    "class_0_labels = np.zeros((50,))\n",
    "\n",
    "# class 1 points\n",
    "class_1_x1 = np.random.normal(loc=4, scale=0.5, size=50)\n",
    "class_1_x2 = np.random.normal(loc=4, scale=0.5, size=50)\n",
    "class_1_labels = np.ones((50,))\n",
    "\n",
    "plt.xlim(0, 10)\n",
    "plt.ylim(0, 10)\n",
    "plt.scatter(class_0_x1, class_0_x2, color='red')\n",
    "plt.scatter(class_1_x1, class_1_x2, color='blue')\n",
    "plt.plot()"
   ]
  },
  {
   "cell_type": "code",
   "execution_count": 17,
   "id": "30f57da1-3df3-4155-864c-0829f8028fbe",
   "metadata": {},
   "outputs": [],
   "source": [
    "x1 = np.concatenate([class_0_x1, class_1_x1])\n",
    "x2 = np.concatenate([class_0_x2, class_1_x2])\n",
    "labels = np.concatenate([class_0_labels, class_1_labels])\n",
    "\n",
    "df = pd.DataFrame({'X1': x1, 'X2': x2, 'Class': labels})\n",
    "df.to_csv('k-nn.csv', index=False)"
   ]
  },
  {
   "cell_type": "code",
   "execution_count": null,
   "id": "a1051b2c-323c-4b56-9d33-db234dffc66d",
   "metadata": {},
   "outputs": [],
   "source": []
  }
 ],
 "metadata": {
  "kernelspec": {
   "display_name": "Python 3 (ipykernel)",
   "language": "python",
   "name": "python3"
  },
  "language_info": {
   "codemirror_mode": {
    "name": "ipython",
    "version": 3
   },
   "file_extension": ".py",
   "mimetype": "text/x-python",
   "name": "python",
   "nbconvert_exporter": "python",
   "pygments_lexer": "ipython3",
   "version": "3.10.14"
  }
 },
 "nbformat": 4,
 "nbformat_minor": 5
}
