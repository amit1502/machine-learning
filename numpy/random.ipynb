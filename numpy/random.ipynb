{
 "cells": [
  {
   "cell_type": "markdown",
   "id": "720fc575-c888-4436-a578-5ac42e8e5271",
   "metadata": {},
   "source": [
    "# For working with random distribution we need numpy random module"
   ]
  },
  {
   "cell_type": "code",
   "execution_count": 2,
   "id": "00bdeb4d-12a0-428e-852e-3a0ecc6f1e9f",
   "metadata": {},
   "outputs": [],
   "source": [
    "import numpy as np"
   ]
  },
  {
   "cell_type": "code",
   "execution_count": 3,
   "id": "6ac554da-ec4b-4e3a-92fa-f64a715cf34d",
   "metadata": {},
   "outputs": [
    {
     "name": "stdout",
     "output_type": "stream",
     "text": [
      "[ 5  6  7  8  9 10 11 12 13 14]\n"
     ]
    }
   ],
   "source": [
    "a = np.arange(10) + 5\n",
    "print(a)"
   ]
  },
  {
   "cell_type": "code",
   "execution_count": 16,
   "id": "c5283dd4-f743-433c-b751-7ccdb95df44d",
   "metadata": {},
   "outputs": [
    {
     "name": "stdout",
     "output_type": "stream",
     "text": [
      "[6 5 6 5 7 6 9 6 6 6]\n",
      "[[0.38791074 0.66974604 0.93553907]\n",
      " [0.84631092 0.31327352 0.52454816]]\n",
      "[[-1.50780766 -0.31529207  0.85817886]\n",
      " [ 0.07134299 -2.29230928 -1.41555249]]\n",
      "[5 6 6 6 6 5 9 6 5 5]\n",
      "34\n"
     ]
    }
   ],
   "source": [
    "np.random.seed(1)\n",
    "\n",
    "# shuffle\n",
    "np.random.shuffle(a)\n",
    "print(a)\n",
    "\n",
    "# rand\n",
    "a = np.random.rand(2, 3)\n",
    "print(a)\n",
    "\n",
    "# randn -> sample from normal distribution\n",
    "a = np.random.randn(2, 3)\n",
    "print(a)\n",
    "\n",
    "# randint -> range and number of values to generate\n",
    "a = np.random.randint(5, 10, 10)\n",
    "print(a)\n",
    "\n",
    "# choice -> randomly select a number\n",
    "print(np.random.choice([2, 4, -9, 34, -100]))"
   ]
  },
  {
   "cell_type": "code",
   "execution_count": null,
   "id": "1034bd7a-03c7-4846-a23a-d60b3e34d9b8",
   "metadata": {},
   "outputs": [],
   "source": []
  }
 ],
 "metadata": {
  "kernelspec": {
   "display_name": "Python 3 (ipykernel)",
   "language": "python",
   "name": "python3"
  },
  "language_info": {
   "codemirror_mode": {
    "name": "ipython",
    "version": 3
   },
   "file_extension": ".py",
   "mimetype": "text/x-python",
   "name": "python",
   "nbconvert_exporter": "python",
   "pygments_lexer": "ipython3",
   "version": "3.10.14"
  }
 },
 "nbformat": 4,
 "nbformat_minor": 5
}
