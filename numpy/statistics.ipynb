{
 "cells": [
  {
   "cell_type": "markdown",
   "id": "b064372e-06e9-45ba-87da-96759310aa5b",
   "metadata": {},
   "source": [
    "# Some statistical functions\n",
    "- min, max\n",
    "- mean\n",
    "- median\n",
    "- average\n",
    "- variance\n",
    "- standard deviation"
   ]
  },
  {
   "cell_type": "code",
   "execution_count": 3,
   "id": "7bbdec6e-ac14-4318-8122-461f88a8a02f",
   "metadata": {},
   "outputs": [],
   "source": [
    "import numpy as np"
   ]
  },
  {
   "cell_type": "code",
   "execution_count": 4,
   "id": "5233a806-87ae-4c88-ae96-65ec59bb88e4",
   "metadata": {},
   "outputs": [],
   "source": [
    "a = [[1, 2, 3, 4], [8, -1, 6, 2]]"
   ]
  },
  {
   "cell_type": "code",
   "execution_count": 7,
   "id": "caecf510-aee7-48df-90c8-cda2ed9fffed",
   "metadata": {},
   "outputs": [
    {
     "name": "stdout",
     "output_type": "stream",
     "text": [
      "-1\n",
      "[ 1 -1  3  2]\n",
      "[ 1 -1]\n"
     ]
    }
   ],
   "source": [
    "# min\n",
    "print(np.min(a))\n",
    "print(np.min(a, axis=0))\n",
    "print(np.min(a, axis=1))"
   ]
  },
  {
   "cell_type": "code",
   "execution_count": 10,
   "id": "75bf6b4a-48df-4314-b658-ea7c566f2f19",
   "metadata": {},
   "outputs": [
    {
     "name": "stdout",
     "output_type": "stream",
     "text": [
      "3.125\n",
      "[4.5 0.5 4.5 3. ]\n",
      "[2.5  3.75]\n"
     ]
    }
   ],
   "source": [
    "# mean\n",
    "print(np.mean(a))\n",
    "print(np.mean(a, axis=0))\n",
    "print(np.mean(a, axis=1))"
   ]
  },
  {
   "cell_type": "code",
   "execution_count": 12,
   "id": "0881b496-b73e-458e-9e8a-215392c76a38",
   "metadata": {},
   "outputs": [
    {
     "name": "stdout",
     "output_type": "stream",
     "text": [
      "2.5\n",
      "[4.5 0.5 4.5 3. ]\n",
      "[2.5 4. ]\n"
     ]
    }
   ],
   "source": [
    "#median\n",
    "print(np.median(a))\n",
    "print(np.median(a, axis=0))\n",
    "print(np.median(a, axis=1))"
   ]
  },
  {
   "cell_type": "code",
   "execution_count": 13,
   "id": "2770d495-45d0-44e2-a194-83f90b7220e9",
   "metadata": {},
   "outputs": [
    {
     "name": "stdout",
     "output_type": "stream",
     "text": [
      "3.125\n",
      "[4.5 0.5 4.5 3. ]\n",
      "[2.5  3.75]\n"
     ]
    }
   ],
   "source": [
    "#average\n",
    "print(np.average(a))\n",
    "print(np.average(a, axis=0))\n",
    "print(np.average(a, axis=1))"
   ]
  },
  {
   "cell_type": "code",
   "execution_count": 15,
   "id": "47bcabc4-d444-46dc-b218-25505d500faf",
   "metadata": {},
   "outputs": [
    {
     "name": "stdout",
     "output_type": "stream",
     "text": [
      "[4.5 0.5 4.5 3. ]\n"
     ]
    }
   ],
   "source": [
    "print(np.sum(a, axis=0)/2) # verifying average"
   ]
  },
  {
   "cell_type": "code",
   "execution_count": 22,
   "id": "906f5bd5-ba34-482c-b843-822e7738ae07",
   "metadata": {},
   "outputs": [
    {
     "name": "stdout",
     "output_type": "stream",
     "text": [
      "[0 1 2 3 4 5 6 7 8 9]\n",
      "4.5\n",
      "4.5\n",
      "6.333333333333333\n",
      "6.333333333333333\n"
     ]
    }
   ],
   "source": [
    "# what is the difference b/w mean and avearge\n",
    "a = np.arange(10)\n",
    "print(a)\n",
    "\n",
    "wt = np.arange(10)\n",
    "\n",
    "print(np.mean(a))\n",
    "print(np.sum(a)/10) # verify mean\n",
    "\n",
    "print(np.average(a, weights=wt))\n",
    "print(np.sum(a*a)/np.sum(wt))"
   ]
  },
  {
   "cell_type": "code",
   "execution_count": 25,
   "id": "d13e97e0-7962-4fe9-818b-81950b0e65de",
   "metadata": {},
   "outputs": [
    {
     "name": "stdout",
     "output_type": "stream",
     "text": [
      "1.019803902718557\n",
      "1.019803902718557\n"
     ]
    }
   ],
   "source": [
    "# standard deviation\n",
    "arr = np.array([2, 3, 4, 1, 2])\n",
    "u = np.mean(arr)\n",
    "myStd = np.sqrt(np.mean(abs(arr-u)**2))\n",
    "print(myStd)\n",
    "print(np.std(arr))"
   ]
  },
  {
   "cell_type": "code",
   "execution_count": 27,
   "id": "fb0e73db-9ae0-4f0b-8397-f18eed2d558e",
   "metadata": {},
   "outputs": [
    {
     "name": "stdout",
     "output_type": "stream",
     "text": [
      "1.04\n",
      "1.04\n"
     ]
    }
   ],
   "source": [
    "# variance\n",
    "print(myStd ** 2)\n",
    "print(np.var(arr))"
   ]
  },
  {
   "cell_type": "code",
   "execution_count": null,
   "id": "72d367f4-e8f7-4229-a80f-1ea230ef1157",
   "metadata": {},
   "outputs": [],
   "source": []
  }
 ],
 "metadata": {
  "kernelspec": {
   "display_name": "Python 3 (ipykernel)",
   "language": "python",
   "name": "python3"
  },
  "language_info": {
   "codemirror_mode": {
    "name": "ipython",
    "version": 3
   },
   "file_extension": ".py",
   "mimetype": "text/x-python",
   "name": "python",
   "nbconvert_exporter": "python",
   "pygments_lexer": "ipython3",
   "version": "3.10.14"
  }
 },
 "nbformat": 4,
 "nbformat_minor": 5
}
