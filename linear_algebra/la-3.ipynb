{
 "cells": [
  {
   "cell_type": "code",
   "execution_count": 10,
   "id": "34d070bd-aaf4-4e5f-b518-7372e01b2e5d",
   "metadata": {},
   "outputs": [
    {
     "name": "stdout",
     "output_type": "stream",
     "text": [
      "l2 norm 5.0\n",
      "l1 norm 7.0\n",
      "inf norm 4.0\n",
      "4.497941445275415\n"
     ]
    }
   ],
   "source": [
    "import numpy as np\n",
    "# norm defines how big the vector is\n",
    "\n",
    "# l2 norm is the euclidean difference\n",
    "x = np.array([3, -4])\n",
    "l2_norm = np.linalg.norm(x)\n",
    "print(\"l2 norm\", l2_norm)\n",
    "\n",
    "# l1 norm is the addition of absolute values\n",
    "l1_norm = np.linalg.norm(x, ord=1)\n",
    "print(\"l1 norm\", l1_norm)\n",
    "\n",
    "# linf norm is the hishest value in vector\n",
    "linf_norm = np.linalg.norm(x, ord=np.inf)\n",
    "print(\"inf norm\", linf_norm)\n"
   ]
  },
  {
   "cell_type": "markdown",
   "id": "9fcbba3d-f2a2-467b-8745-b60e14d70558",
   "metadata": {},
   "source": [
    "## determinant"
   ]
  },
  {
   "cell_type": "code",
   "execution_count": 13,
   "id": "91eb377f-a941-4fe9-af81-f3c49dc82277",
   "metadata": {},
   "outputs": [],
   "source": [
    "x = np.array([\n",
    "    [1, 4],\n",
    "    [2, 10]\n",
    "])"
   ]
  },
  {
   "cell_type": "code",
   "execution_count": 14,
   "id": "5e87b376-76ed-4ea6-a60b-e15586d4170e",
   "metadata": {},
   "outputs": [
    {
     "name": "stdout",
     "output_type": "stream",
     "text": [
      "2.0\n"
     ]
    }
   ],
   "source": [
    "print(np.linalg.det(x))"
   ]
  },
  {
   "cell_type": "markdown",
   "id": "d9b61ab7-4151-46e2-bbd8-83007bfdaaf3",
   "metadata": {},
   "source": [
    "# inverse"
   ]
  },
  {
   "cell_type": "code",
   "execution_count": 15,
   "id": "fe0ff4c0-5aac-4504-b69b-a9c14de4dea0",
   "metadata": {},
   "outputs": [
    {
     "name": "stdout",
     "output_type": "stream",
     "text": [
      "[[ 5.  -2. ]\n",
      " [-1.   0.5]]\n",
      "[[ 5.  -2. ]\n",
      " [-1.   0.5]]\n"
     ]
    }
   ],
   "source": [
    "x1 = np.linalg.inv(x) # inverse when matrix in invertible (det != 0)\n",
    "x2 = np.linalg.pinv(x) # pseudo inverse\n",
    "\n",
    "print(x1)\n",
    "print(x2)"
   ]
  },
  {
   "cell_type": "code",
   "execution_count": 17,
   "id": "533c0f52-6a3e-41d3-9d73-352f922110e9",
   "metadata": {},
   "outputs": [
    {
     "name": "stdout",
     "output_type": "stream",
     "text": [
      "[[ 1.00000000e+00  4.44089210e-16]\n",
      " [-2.22044605e-15  1.00000000e+00]]\n"
     ]
    }
   ],
   "source": [
    "print(np.dot(x, x2)) # close to identity matrix"
   ]
  },
  {
   "cell_type": "markdown",
   "id": "93e2f648-68a8-4975-9231-fc1598f6d873",
   "metadata": {},
   "source": [
    "## Solving linear equation"
   ]
  },
  {
   "cell_type": "code",
   "execution_count": null,
   "id": "2e1d5203-fa12-40a8-a91b-de602fa5e6e0",
   "metadata": {},
   "outputs": [],
   "source": [
    "# 10x1 + 5x2 = 25\n",
    "# 3x1 - 8x2 = -2\n",
    "\n",
    "X = np.array([\n",
    "    [10, 5],\n",
    "    [3, 8]\n",
    "])\n",
    "\n",
    "Y = np.array([25, -2])\n",
    "\n",
    "print(np.linalg.solve(X, Y"
   ]
  }
 ],
 "metadata": {
  "kernelspec": {
   "display_name": "Python 3 (ipykernel)",
   "language": "python",
   "name": "python3"
  },
  "language_info": {
   "codemirror_mode": {
    "name": "ipython",
    "version": 3
   },
   "file_extension": ".py",
   "mimetype": "text/x-python",
   "name": "python",
   "nbconvert_exporter": "python",
   "pygments_lexer": "ipython3",
   "version": "3.10.14"
  }
 },
 "nbformat": 4,
 "nbformat_minor": 5
}
